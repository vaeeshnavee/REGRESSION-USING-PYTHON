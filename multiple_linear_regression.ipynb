{
  "nbformat": 4,
  "nbformat_minor": 0,
  "metadata": {
    "colab": {
      "name": "multiple_linear_regression.ipynb",
      "provenance": []
    },
    "kernelspec": {
      "name": "python3",
      "display_name": "Python 3"
    }
  },
  "cells": [
    {
      "cell_type": "markdown",
      "metadata": {
        "id": "CazISR8X_HUG"
      },
      "source": [
        "# Multiple Linear Regression"
      ]
    },
    {
      "cell_type": "markdown",
      "metadata": {
        "id": "pOyqYHTk_Q57"
      },
      "source": [
        "## Importing the libraries"
      ]
    },
    {
      "cell_type": "code",
      "metadata": {
        "id": "FtW0xpvHI-7R"
      },
      "source": [
        "import numpy as np\n",
        "import matplotlib.pyplot as py\n",
        "import pandas as pd"
      ],
      "execution_count": 30,
      "outputs": []
    },
    {
      "cell_type": "markdown",
      "metadata": {
        "id": "vgC61-ah_WIz"
      },
      "source": [
        "## Importing the dataset"
      ]
    },
    {
      "cell_type": "code",
      "metadata": {
        "colab": {
          "base_uri": "https://localhost:8080/"
        },
        "id": "zz6CpS7lK08x",
        "outputId": "a602d48b-8f69-4f80-b5d0-71c3e4a3fcab"
      },
      "source": [
        "dataset = pd.read_csv('50_Startups.csv')\n",
        "x = dataset.iloc[:, :-1].values\n",
        "y = dataset.iloc[:, -1].values\n",
        "print(x)"
      ],
      "execution_count": 31,
      "outputs": [
        {
          "output_type": "stream",
          "text": [
            "[[165349.2 136897.8 471784.1 'New York']\n",
            " [162597.7 151377.59 443898.53 'California']\n",
            " [153441.51 101145.55 407934.54 'Florida']\n",
            " [144372.41 118671.85 383199.62 'New York']\n",
            " [142107.34 91391.77 366168.42 'Florida']\n",
            " [131876.9 99814.71 362861.36 'New York']\n",
            " [134615.46 147198.87 127716.82 'California']\n",
            " [130298.13 145530.06 323876.68 'Florida']\n",
            " [120542.52 148718.95 311613.29 'New York']\n",
            " [123334.88 108679.17 304981.62 'California']\n",
            " [101913.08 110594.11 229160.95 'Florida']\n",
            " [100671.96 91790.61 249744.55 'California']\n",
            " [93863.75 127320.38 249839.44 'Florida']\n",
            " [91992.39 135495.07 252664.93 'California']\n",
            " [119943.24 156547.42 256512.92 'Florida']\n",
            " [114523.61 122616.84 261776.23 'New York']\n",
            " [78013.11 121597.55 264346.06 'California']\n",
            " [94657.16 145077.58 282574.31 'New York']\n",
            " [91749.16 114175.79 294919.57 'Florida']\n",
            " [86419.7 153514.11 0.0 'New York']\n",
            " [76253.86 113867.3 298664.47 'California']\n",
            " [78389.47 153773.43 299737.29 'New York']\n",
            " [73994.56 122782.75 303319.26 'Florida']\n",
            " [67532.53 105751.03 304768.73 'Florida']\n",
            " [77044.01 99281.34 140574.81 'New York']\n",
            " [64664.71 139553.16 137962.62 'California']\n",
            " [75328.87 144135.98 134050.07 'Florida']\n",
            " [72107.6 127864.55 353183.81 'New York']\n",
            " [66051.52 182645.56 118148.2 'Florida']\n",
            " [65605.48 153032.06 107138.38 'New York']\n",
            " [61994.48 115641.28 91131.24 'Florida']\n",
            " [61136.38 152701.92 88218.23 'New York']\n",
            " [63408.86 129219.61 46085.25 'California']\n",
            " [55493.95 103057.49 214634.81 'Florida']\n",
            " [46426.07 157693.92 210797.67 'California']\n",
            " [46014.02 85047.44 205517.64 'New York']\n",
            " [28663.76 127056.21 201126.82 'Florida']\n",
            " [44069.95 51283.14 197029.42 'California']\n",
            " [20229.59 65947.93 185265.1 'New York']\n",
            " [38558.51 82982.09 174999.3 'California']\n",
            " [28754.33 118546.05 172795.67 'California']\n",
            " [27892.92 84710.77 164470.71 'Florida']\n",
            " [23640.93 96189.63 148001.11 'California']\n",
            " [15505.73 127382.3 35534.17 'New York']\n",
            " [22177.74 154806.14 28334.72 'California']\n",
            " [1000.23 124153.04 1903.93 'New York']\n",
            " [1315.46 115816.21 297114.46 'Florida']\n",
            " [0.0 135426.92 0.0 'California']\n",
            " [542.05 51743.15 0.0 'New York']\n",
            " [0.0 116983.8 45173.06 'California']]\n"
          ],
          "name": "stdout"
        }
      ]
    },
    {
      "cell_type": "markdown",
      "metadata": {
        "id": "VadrvE7s_lS9"
      },
      "source": [
        "## Encoding categorical data"
      ]
    },
    {
      "cell_type": "code",
      "metadata": {
        "id": "odbFZVRlLqpo"
      },
      "source": [
        "from sklearn.preprocessing import LabelEncoder, OneHotEncoder  \n",
        "labelencoder_x= LabelEncoder()  \n",
        "x[:, 3]= labelencoder_x.fit_transform(x[:,3])  \n",
        " "
      ],
      "execution_count": 40,
      "outputs": []
    },
    {
      "cell_type": "markdown",
      "metadata": {
        "id": "WemVnqgeA70k"
      },
      "source": [
        "## Splitting the dataset into the Training set and Test set"
      ]
    },
    {
      "cell_type": "code",
      "metadata": {
        "colab": {
          "base_uri": "https://localhost:8080/"
        },
        "id": "208g4wL-Opyt",
        "outputId": "86b1f2c3-ccd9-4991-c5e1-5a95b8875fcc"
      },
      "source": [
        "from sklearn.model_selection import train_test_split\n",
        "x_train, x_test, y_train, y_test = train_test_split(x,y, test_size = 0.2, random_state = 0)\n",
        "\n",
        "print(x)"
      ],
      "execution_count": 41,
      "outputs": [
        {
          "output_type": "stream",
          "text": [
            "[[165349.2 136897.8 471784.1 2]\n",
            " [162597.7 151377.59 443898.53 0]\n",
            " [153441.51 101145.55 407934.54 1]\n",
            " [144372.41 118671.85 383199.62 2]\n",
            " [142107.34 91391.77 366168.42 1]\n",
            " [131876.9 99814.71 362861.36 2]\n",
            " [134615.46 147198.87 127716.82 0]\n",
            " [130298.13 145530.06 323876.68 1]\n",
            " [120542.52 148718.95 311613.29 2]\n",
            " [123334.88 108679.17 304981.62 0]\n",
            " [101913.08 110594.11 229160.95 1]\n",
            " [100671.96 91790.61 249744.55 0]\n",
            " [93863.75 127320.38 249839.44 1]\n",
            " [91992.39 135495.07 252664.93 0]\n",
            " [119943.24 156547.42 256512.92 1]\n",
            " [114523.61 122616.84 261776.23 2]\n",
            " [78013.11 121597.55 264346.06 0]\n",
            " [94657.16 145077.58 282574.31 2]\n",
            " [91749.16 114175.79 294919.57 1]\n",
            " [86419.7 153514.11 0.0 2]\n",
            " [76253.86 113867.3 298664.47 0]\n",
            " [78389.47 153773.43 299737.29 2]\n",
            " [73994.56 122782.75 303319.26 1]\n",
            " [67532.53 105751.03 304768.73 1]\n",
            " [77044.01 99281.34 140574.81 2]\n",
            " [64664.71 139553.16 137962.62 0]\n",
            " [75328.87 144135.98 134050.07 1]\n",
            " [72107.6 127864.55 353183.81 2]\n",
            " [66051.52 182645.56 118148.2 1]\n",
            " [65605.48 153032.06 107138.38 2]\n",
            " [61994.48 115641.28 91131.24 1]\n",
            " [61136.38 152701.92 88218.23 2]\n",
            " [63408.86 129219.61 46085.25 0]\n",
            " [55493.95 103057.49 214634.81 1]\n",
            " [46426.07 157693.92 210797.67 0]\n",
            " [46014.02 85047.44 205517.64 2]\n",
            " [28663.76 127056.21 201126.82 1]\n",
            " [44069.95 51283.14 197029.42 0]\n",
            " [20229.59 65947.93 185265.1 2]\n",
            " [38558.51 82982.09 174999.3 0]\n",
            " [28754.33 118546.05 172795.67 0]\n",
            " [27892.92 84710.77 164470.71 1]\n",
            " [23640.93 96189.63 148001.11 0]\n",
            " [15505.73 127382.3 35534.17 2]\n",
            " [22177.74 154806.14 28334.72 0]\n",
            " [1000.23 124153.04 1903.93 2]\n",
            " [1315.46 115816.21 297114.46 1]\n",
            " [0.0 135426.92 0.0 0]\n",
            " [542.05 51743.15 0.0 2]\n",
            " [0.0 116983.8 45173.06 0]]\n"
          ],
          "name": "stdout"
        }
      ]
    },
    {
      "cell_type": "markdown",
      "metadata": {
        "id": "k-McZVsQBINc"
      },
      "source": [
        "## Training the Multiple Linear Regression model on the Training set"
      ]
    },
    {
      "cell_type": "code",
      "metadata": {
        "colab": {
          "base_uri": "https://localhost:8080/"
        },
        "id": "Y0z1SMwbQk5D",
        "outputId": "ae966e22-0b49-40ed-9aa4-bd0851197c70"
      },
      "source": [
        "from sklearn.linear_model import LinearRegression\n",
        "regressor = LinearRegression()\n",
        "regressor.fit (x_train, y_train)"
      ],
      "execution_count": 42,
      "outputs": [
        {
          "output_type": "execute_result",
          "data": {
            "text/plain": [
              "LinearRegression(copy_X=True, fit_intercept=True, n_jobs=None, normalize=False)"
            ]
          },
          "metadata": {
            "tags": []
          },
          "execution_count": 42
        }
      ]
    },
    {
      "cell_type": "markdown",
      "metadata": {
        "id": "xNkXL1YQBiBT"
      },
      "source": [
        "## Predicting the Test set results"
      ]
    },
    {
      "cell_type": "code",
      "metadata": {
        "colab": {
          "base_uri": "https://localhost:8080/"
        },
        "id": "5Mazyt0oTRPM",
        "outputId": "66cb78c7-015e-4bfd-d4c7-304ae4e64f18"
      },
      "source": [
        "y_pred = regressor.predict(x_test)\n",
        "np.set_printoptions(precision=2)\n",
        "print(np.concatenate((y_pred.reshape(len(y_pred),1), y_test.reshape(len(y_test),1)),1))\n"
      ],
      "execution_count": 46,
      "outputs": [
        {
          "output_type": "stream",
          "text": [
            "[[103959.41 103282.38]\n",
            " [132398.73 144259.4 ]\n",
            " [133529.04 146121.95]\n",
            " [ 72958.28  77798.83]\n",
            " [179534.79 191050.39]\n",
            " [115533.63 105008.31]\n",
            " [ 67476.96  81229.06]\n",
            " [ 98504.36  97483.56]\n",
            " [114789.16 110352.25]\n",
            " [168972.22 166187.94]]\n"
          ],
          "name": "stdout"
        }
      ]
    }
  ]
}